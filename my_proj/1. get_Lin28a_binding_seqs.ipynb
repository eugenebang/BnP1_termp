{
 "cells": [
  {
   "cell_type": "markdown",
   "id": "virtual-environment",
   "metadata": {},
   "source": [
    "# 1. Get miRNAs that are in (+) strand"
   ]
  },
  {
   "cell_type": "code",
   "execution_count": null,
   "id": "incoming-division",
   "metadata": {},
   "outputs": [],
   "source": [
    "# get all mRNA gene names from gencode.gtf\n",
    "!grep -i protein_coding ../binfo1-datapack1/gencode.gtf | awk '$3==\"gene\" && $7==\"+\" {print $10, $1, $4, $5}' > mirna_dm.txt"
   ]
  },
  {
   "cell_type": "markdown",
   "id": "opposite-fitting",
   "metadata": {},
   "source": [
    "miRNA 중 (+) strand인 entity 들만 선정"
   ]
  },
  {
   "cell_type": "code",
   "execution_count": null,
   "id": "meaningful-street",
   "metadata": {},
   "outputs": [],
   "source": [
    "import pandas as pd\n",
    "import re\n",
    "from collections import Counter\n",
    "from scipy.stats import entropy\n",
    "from tqdm import tqdm\n",
    "from datetime import datetime\n",
    "import pickle\n",
    "\n",
    "import parmap\n",
    "\n",
    "model_name = 'get_Lin28a_binding_seqs'\n",
    "version = 'parmap'\n",
    "logger_file = f'log/{model_name}_v{version}'\n",
    "\n",
    "\n",
    "def logger(text, show=True):\n",
    "    text = f'[{datetime.now().replace(microsecond=0)}] {text}'\n",
    "    with open(f'{logger_file}.log', 'a') as f:\n",
    "        f.write(text+'\\n')\n",
    "    if show:\n",
    "        print(text)"
   ]
  },
  {
   "cell_type": "code",
   "execution_count": null,
   "id": "caroline-ministry",
   "metadata": {},
   "outputs": [],
   "source": [
    "mrnas = pd.read_csv('mirna_dm.txt', delimiter=' ', header=None)\n",
    "mrnas.columns = ['gene_id','chr','start','end']\n",
    "mrnas[mrnas['chr']!='chrM']\n",
    "mrnas"
   ]
  },
  {
   "cell_type": "code",
   "execution_count": null,
   "id": "removed-permission",
   "metadata": {},
   "outputs": [],
   "source": [
    "mrnas['gene_id'] = mrnas['gene_id'].str.split('.',expand=True)\n",
    "mrnas # all gene ids are unique"
   ]
  },
  {
   "cell_type": "code",
   "execution_count": null,
   "id": "packed-money",
   "metadata": {},
   "outputs": [],
   "source": [
    "def count_base(seq):\n",
    "    counts = Counter(seq.upper())\n",
    "    counts = [counts['A'], counts['T'], counts['G'], counts['C']]\n",
    "    index = counts.index(max(counts))\n",
    "    return counts, index"
   ]
  },
  {
   "cell_type": "code",
   "execution_count": null,
   "id": "dramatic-possible",
   "metadata": {
    "scrolled": true
   },
   "outputs": [],
   "source": [
    "threshold_entropy = 1.2\n",
    "\n",
    "genes = []\n",
    "seqs = []\n",
    "\n",
    "\n",
    "#for i in tqdm(range(0,100)):\n",
    "    \n",
    "def function(i):    \n",
    "    gene = mrnas.iloc[i]\n",
    "    chr = gene['chr']\n",
    "    start = gene['start']\n",
    "    end = gene['end']\n",
    "    gid = gene['gene_id']\n",
    "    \n",
    "    query = f'{chr}:{start}-{end}'\n",
    "    file = f'parmap/gene_{i}.pileup'\n",
    "\n",
    "    !samtools view -b -o - ../binfo1-datapack1/CLIP-35L33G.bam $query | samtools mpileup - > $file\n",
    "    pileup = pd.read_csv(file, sep='\\t', names=['chrom', 'pos', '_ref', 'count', 'basereads', 'quals'])\n",
    "    pileup = pileup[(pileup['pos']>=start)&(pileup['pos']<=end)]\n",
    "\n",
    "    toremove = re.compile('[<>$*#^]')\n",
    "    pileup['matches'] = pileup['basereads'].apply(lambda x: toremove.sub('', x))\n",
    "\n",
    "    max_entropy = 0\n",
    "    max_pos = 0\n",
    "    tot_pos = []\n",
    "    tot_seq = []\n",
    "    for pos in pileup['pos']:\n",
    "        seq = pileup[pileup['pos'] == pos].iloc[0]['matches']\n",
    "\n",
    "        # if seq is null : insert entropy as 1\n",
    "        if seq != '' : \n",
    "            count_list, index = count_base(seq)\n",
    "            entrop = entropy(count_list)\n",
    "            tot_seq.append(index)\n",
    "            tot_pos.append(pos)\n",
    "            #print(pos, entrop, count_base(seq))\n",
    "\n",
    "            if max_entropy < entrop:\n",
    "                max_entropy = entrop\n",
    "                max_pos = pos\n",
    "                \n",
    "    try: \n",
    "        max_count = pileup[pileup['pos']==max_pos].iloc[0]['count']\n",
    "    except:\n",
    "        max_count = 0\n",
    "    \n",
    "    if max_entropy > threshold_entropy:# & (max_count >= 50): # generate sequences\n",
    "        tot_seq[tot_pos.index(max_pos)]=2 # attatched location = G(2)\n",
    "        try:\n",
    "            seq_st = tot_pos.index(max_pos-8)\n",
    "            seq_end = tot_pos.index(max_pos+9)\n",
    "            seq18 = tot_seq[seq_st:seq_end+1]\n",
    "            genes.append(gid)\n",
    "            seqs.append(seq18)   \n",
    "            logger(f'[{max_entropy}/{max_count}] {gid} is added!')\n",
    "        except: \n",
    "            try:\n",
    "                seq_st = tot_pos.index(max_pos-8)\n",
    "                seq18 = tot_seq[seq_st:]\n",
    "                genes.append(gid)\n",
    "                seqs.append(seq18)   \n",
    "                logger(f'[{max_entropy}/{max_count}] {gid} is added!')\n",
    "            except:\n",
    "                try:\n",
    "                    seq_end = tot_pos.index(max_pos+9)\n",
    "                    seq18 = tot_seq[:seq_end+1]\n",
    "                    genes.append(gid)\n",
    "                    seqs.append(seq18)   \n",
    "                    logger(f'[{max_entropy}/{max_count}] {gid} is added!')\n",
    "                except:\n",
    "                    pass\n",
    "                \n",
    "    with open(f'parmap/seqs_mrna_{i}.pkl', 'wb') as f:\n",
    "        pickle.dump((genes, seqs), f)"
   ]
  },
  {
   "cell_type": "code",
   "execution_count": null,
   "id": "excellent-jacket",
   "metadata": {},
   "outputs": [],
   "source": [
    "# with open('seqs_mrna.pkl', 'wb') as f:\n",
    "#     pickle.dump((genes, seqs), f)\n",
    "    \n",
    "# with open('seqs_mrna.pkl', 'rb') as f:\n",
    "#     a,b = pickle.load(f)\n",
    "    \n",
    "# len(a)"
   ]
  },
  {
   "cell_type": "code",
   "execution_count": null,
   "id": "given-screw",
   "metadata": {
    "scrolled": true
   },
   "outputs": [],
   "source": [
    "# parmap.map(function, range(0,5000), pm_pbar=True, pm_processes=120)"
   ]
  },
  {
   "cell_type": "code",
   "execution_count": null,
   "id": "secret-loading",
   "metadata": {},
   "outputs": [],
   "source": [
    "parmap.map(function, range(5000,len(mrnas)), pm_pbar=True, pm_processes=120)"
   ]
  },
  {
   "cell_type": "code",
   "execution_count": null,
   "id": "sorted-waters",
   "metadata": {},
   "outputs": [],
   "source": []
  },
  {
   "cell_type": "code",
   "execution_count": null,
   "id": "controlling-giant",
   "metadata": {},
   "outputs": [],
   "source": []
  }
 ],
 "metadata": {
  "kernelspec": {
   "display_name": "tutorial",
   "language": "python",
   "name": "tutorial"
  },
  "language_info": {
   "codemirror_mode": {
    "name": "ipython",
    "version": 3
   },
   "file_extension": ".py",
   "mimetype": "text/x-python",
   "name": "python",
   "nbconvert_exporter": "python",
   "pygments_lexer": "ipython3",
   "version": "3.7.6"
  }
 },
 "nbformat": 4,
 "nbformat_minor": 5
}
