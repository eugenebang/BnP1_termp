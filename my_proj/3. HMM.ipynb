{
 "cells": [
  {
   "cell_type": "code",
   "execution_count": 1,
   "id": "measured-leader",
   "metadata": {},
   "outputs": [
    {
     "data": {
      "text/plain": [
       "[[2, 3, 0, 2, 1, 2, 0, 2, 0, 0, 3, 0, 0, 2, 3, 3, 1, 2],\n",
       " [2, 3, 0, 2, 2, 0, 3, 2, 2, 3, 2, 3, 3, 3, 1, 2, 3, 2],\n",
       " [0, 2, 0, 3, 3, 2, 1, 2, 1, 3, 3, 1, 0, 2, 1, 3, 0, 0],\n",
       " [1, 0, 2, 1, 2, 1, 1, 3, 2, 3, 1, 0, 1, 3, 0, 2, 1, 3],\n",
       " [1, 2, 2, 1, 2, 3, 1, 3, 2, 2, 2, 0, 2, 1, 1, 3, 1, 3],\n",
       " [3, 3, 1, 1, 3, 1, 1, 2, 3, 1, 1, 3, 3, 3, 0, 1, 1, 0],\n",
       " [3, 2, 3, 1, 1, 2, 3, 2, 1, 2, 3, 3, 2, 3, 2, 2, 0, 3],\n",
       " [2, 2, 1, 3, 3, 2, 2, 1, 2, 3, 2, 2, 0, 2, 0, 2, 3, 3],\n",
       " [0, 2, 3, 1, 2, 1, 2, 0, 2, 0, 2, 3, 3, 3, 3, 3, 1, 0],\n",
       " [1, 0, 3, 0, 2, 1, 2, 1, 3, 3, 3, 3, 2, 1, 2, 1, 1, 3],\n",
       " [1, 0, 1, 2, 2, 3, 3, 2, 2, 3, 1, 2, 2, 2, 3, 3, 0, 1],\n",
       " [0, 1, 0, 1, 1, 2, 2, 3, 1, 2, 2, 2, 2, 0, 1, 1, 0, 2],\n",
       " [2, 1, 3, 1, 3, 2, 2, 0, 3, 1, 1, 1, 0, 1, 2, 2, 0, 2],\n",
       " [1, 1, 1, 1, 0, 2, 0, 0, 2, 3, 0, 0, 0, 2, 1, 2, 0, 1],\n",
       " [0, 1, 2, 1, 2, 3, 3, 2, 3, 3, 2, 2, 2, 2, 0, 2, 2, 3],\n",
       " [2, 2, 0, 1, 0, 2, 0, 0, 3, 1, 0, 1, 0, 3, 1, 0, 2, 0],\n",
       " [2, 0, 3, 3, 2, 1, 3, 2, 0, 1, 0, 1, 3, 1, 3, 1, 0, 0],\n",
       " [3, 3, 3, 2, 2, 2, 0, 2, 3, 2, 2, 2, 2, 2, 0],\n",
       " [3, 3, 3, 0, 2, 1, 0, 0, 2, 0, 0, 2, 0, 1, 0, 0, 3, 1],\n",
       " [3, 1, 1, 2, 2, 1, 3, 1, 2, 2, 0, 2, 0, 0, 3, 0, 3, 1],\n",
       " [0, 1, 3, 1, 2, 1, 2, 2, 2, 0, 3, 1, 3, 0, 0, 0, 3, 1],\n",
       " [1, 2, 2, 2, 1, 3, 1, 2, 2, 1, 1, 2, 2, 2, 3, 3, 3, 2],\n",
       " [3, 3, 1, 0, 0, 2, 0, 1, 3, 1, 1, 3, 0, 3, 1, 3, 0, 1],\n",
       " [2, 2, 1, 3, 3, 2, 2, 1, 2, 3, 2, 2, 0, 2, 0, 2, 3, 3],\n",
       " [3, 0, 1, 0, 2, 0, 3, 3, 2, 0, 3, 0, 0, 1, 0, 0, 2, 3],\n",
       " [3, 1, 3, 1, 3, 3, 1, 0, 2, 1, 0, 3, 3, 2, 2, 0, 2, 2],\n",
       " [2, 3, 3, 0, 2, 3, 1, 2, 2, 0, 2, 2, 1, 2, 2],\n",
       " [2, 1, 1, 0, 1, 3, 1, 3, 2, 1, 0, 0, 0, 3, 0, 2, 2, 2]]"
      ]
     },
     "execution_count": 1,
     "metadata": {},
     "output_type": "execute_result"
    }
   ],
   "source": [
    "from hmmlearn import hmm\n",
    "import pickle\n",
    "\n",
    "with open('dataset.pkl', 'rb') as f:\n",
    "    X_train, X_test, y_train, y_test = pickle.load(f)\n",
    "    \n",
    "X_train"
   ]
  },
  {
   "cell_type": "code",
   "execution_count": 4,
   "id": "champion-commander",
   "metadata": {},
   "outputs": [
    {
     "data": {
      "text/plain": [
       "([[2, 3, 0, 2, 2, 0, 3, 2, 2, 3, 2, 3, 3, 3, 1, 2, 3, 2],\n",
       "  [1, 2, 2, 1, 2, 3, 1, 3, 2, 2, 2, 0, 2, 1, 1, 3, 1, 3],\n",
       "  [2, 2, 1, 3, 3, 2, 2, 1, 2, 3, 2, 2, 0, 2, 0, 2, 3, 3],\n",
       "  [0, 2, 3, 1, 2, 1, 2, 0, 2, 0, 2, 3, 3, 3, 3, 3, 1, 0],\n",
       "  [1, 0, 1, 2, 2, 3, 3, 2, 2, 3, 1, 2, 2, 2, 3, 3, 0, 1],\n",
       "  [1, 1, 1, 1, 0, 2, 0, 0, 2, 3, 0, 0, 0, 2, 1, 2, 0, 1],\n",
       "  [3, 3, 3, 2, 2, 2, 0, 2, 3, 2, 2, 2, 2, 2, 0],\n",
       "  [3, 3, 3, 0, 2, 1, 0, 0, 2, 0, 0, 2, 0, 1, 0, 0, 3, 1],\n",
       "  [3, 1, 1, 2, 2, 1, 3, 1, 2, 2, 0, 2, 0, 0, 3, 0, 3, 1],\n",
       "  [0, 1, 3, 1, 2, 1, 2, 2, 2, 0, 3, 1, 3, 0, 0, 0, 3, 1],\n",
       "  [1, 2, 2, 2, 1, 3, 1, 2, 2, 1, 1, 2, 2, 2, 3, 3, 3, 2],\n",
       "  [2, 2, 1, 3, 3, 2, 2, 1, 2, 3, 2, 2, 0, 2, 0, 2, 3, 3],\n",
       "  [2, 3, 3, 0, 2, 3, 1, 2, 2, 0, 2, 2, 1, 2, 2],\n",
       "  [2, 1, 1, 0, 1, 3, 1, 3, 2, 1, 0, 0, 0, 3, 0, 2, 2, 2]],\n",
       " 14)"
      ]
     },
     "execution_count": 4,
     "metadata": {},
     "output_type": "execute_result"
    }
   ],
   "source": [
    "seqs = []\n",
    "# Train HMM with only X_train sequences\n",
    "for i in range(len(X_train)):\n",
    "    if y_train[i]==1:\n",
    "        seqs.append(X_train[i])\n",
    "\n",
    "seqs, len(seqs)"
   ]
  },
  {
   "cell_type": "code",
   "execution_count": 5,
   "id": "alone-plenty",
   "metadata": {},
   "outputs": [],
   "source": [
    "import numpy as np\n",
    "train_seq = np.array([], dtype=int)\n",
    "train_len = np.array([], dtype=int)\n",
    "\n",
    "for i in range(len(seqs)):\n",
    "    train_seq = np.concatenate((train_seq, seqs[i]))\n",
    "    train_len = np.append(train_len, len(seqs[i]))"
   ]
  },
  {
   "cell_type": "markdown",
   "id": "stopped-sport",
   "metadata": {},
   "source": [
    "# HMM model train"
   ]
  },
  {
   "cell_type": "code",
   "execution_count": 6,
   "id": "behavioral-pottery",
   "metadata": {},
   "outputs": [],
   "source": [
    "N_states=2"
   ]
  },
  {
   "cell_type": "code",
   "execution_count": 49,
   "id": "digital-outline",
   "metadata": {},
   "outputs": [
    {
     "data": {
      "text/plain": [
       "(array([[0.7, 0.3],\n",
       "        [0.7, 0.3]]), array([[0.25      , 0.25      , 0.25      , 0.25      ],\n",
       "        [0.23809524, 0.02380952, 0.71428571, 0.02380952]]), array([1, 0]))"
      ]
     },
     "execution_count": 49,
     "metadata": {},
     "output_type": "execute_result"
    }
   ],
   "source": [
    "a = np.vstack((np.array([0.7,0.3]),\n",
    "              np.array([0.7,0.3])))\n",
    "a = a / a.sum(axis=1)[:, np.newaxis]\n",
    "\n",
    "e = np.vstack((np.ones(4),\n",
    "               np.array([1,0.1,3,0.1])))\n",
    "e = e / e.sum(axis=1)[:, np.newaxis]\n",
    "\n",
    "pi = np.array([1,0])\n",
    "a, e, pi"
   ]
  },
  {
   "cell_type": "code",
   "execution_count": 50,
   "id": "checked-confidence",
   "metadata": {},
   "outputs": [
    {
     "data": {
      "text/plain": [
       "True"
      ]
     },
     "execution_count": 50,
     "metadata": {},
     "output_type": "execute_result"
    }
   ],
   "source": [
    "HMM_bind = hmm.MultinomialHMM(n_components=N_states, init_params='', params='et')\n",
    "HMM_bind.transmat_ = a\n",
    "HMM_bind.emissionprob_ = e\n",
    "HMM_bind.startprob_ = pi\n",
    "\n",
    "HMM_bind.fit(train_seq.reshape(-1,1), train_len)\n",
    "HMM_bind.monitor_.converged"
   ]
  },
  {
   "cell_type": "code",
   "execution_count": 51,
   "id": "thorough-twins",
   "metadata": {},
   "outputs": [],
   "source": [
    "X_train_lh = [] # log-likelihood\n",
    "for i, seq in enumerate(X_train):\n",
    "    X_train_lh.append([HMM_bind.score(np.array(seq).reshape(-1,1))])\n",
    "    \n",
    "X_test_lh = [] # log-likelihood\n",
    "for i, seq in enumerate(X_test):\n",
    "    X_test_lh.append([HMM_bind.score(np.array(seq).reshape(-1,1))])"
   ]
  },
  {
   "cell_type": "markdown",
   "id": "armed-fundamentals",
   "metadata": {},
   "source": [
    "# Train logistic classifier"
   ]
  },
  {
   "cell_type": "code",
   "execution_count": 52,
   "id": "limiting-angle",
   "metadata": {},
   "outputs": [],
   "source": [
    "from sklearn.pipeline import Pipeline\n",
    "from sklearn.linear_model import LogisticRegressionCV\n",
    "from sklearn.metrics import roc_auc_score\n",
    "from sklearn.metrics import roc_curve\n",
    "from sklearn.preprocessing import StandardScaler\n",
    "\n",
    "lr_clf = LogisticRegressionCV(Cs=10, cv=10, scoring=\"roc_auc\", max_iter=1000)\n",
    "clf = Pipeline(steps=[(\"sc\", StandardScaler()), (\"clf\", lr_clf)])"
   ]
  },
  {
   "cell_type": "code",
   "execution_count": 53,
   "id": "surprising-connectivity",
   "metadata": {},
   "outputs": [
    {
     "data": {
      "text/plain": [
       "Pipeline(steps=[('sc', StandardScaler()),\n",
       "                ('clf',\n",
       "                 LogisticRegressionCV(cv=10, max_iter=1000,\n",
       "                                      scoring='roc_auc'))])"
      ]
     },
     "execution_count": 53,
     "metadata": {},
     "output_type": "execute_result"
    }
   ],
   "source": [
    "clf.fit(X_train_lh, y_train)"
   ]
  },
  {
   "cell_type": "code",
   "execution_count": 54,
   "id": "interested-malawi",
   "metadata": {},
   "outputs": [
    {
     "name": "stdout",
     "output_type": "stream",
     "text": [
      "0.6388888888888888\n"
     ]
    }
   ],
   "source": [
    "predicted = clf.predict_proba(X_test_lh)\n",
    "positive_column = list(clf.classes_).index(1)\n",
    "\n",
    "y_pred = predicted[:, positive_column]\n",
    "\n",
    "fpr, tpr, _ = roc_curve(y_test, y_pred, pos_label=1)\n",
    "test_score = roc_auc_score(y_test, y_pred)\n",
    "print(test_score)"
   ]
  },
  {
   "cell_type": "code",
   "execution_count": 55,
   "id": "studied-happiness",
   "metadata": {},
   "outputs": [
    {
     "data": {
      "image/png": "[encoded data removed]",
      "text/plain": [
       "<Figure size 432x288 with 1 Axes>"
      ]
     },
     "metadata": {
      "needs_background": "light"
     },
     "output_type": "display_data"
    }
   ],
   "source": [
    "from matplotlib import pyplot as plt\n",
    "plt.plot(fpr, tpr, label='AUC = {:.3f}'.format(test_score),c='c') #marker='.'\n",
    " \n",
    "# axis labels\n",
    "plt.xlabel('False Positive Rate')\n",
    "plt.ylabel('True Positive Rate')\n",
    "plt.title(f'AUROC curve of lin28a prediction model\\n', size=13)\n",
    "plt.legend()\n",
    "plt.show()"
   ]
  },
  {
   "cell_type": "code",
   "execution_count": 56,
   "id": "designed-institution",
   "metadata": {},
   "outputs": [],
   "source": [
    "with open('HMM_results.pkl', 'wb') as f :\n",
    "    pickle.dump((fpr,tpr,test_score), f)"
   ]
  },
  {
   "cell_type": "code",
   "execution_count": null,
   "id": "unique-chair",
   "metadata": {},
   "outputs": [],
   "source": []
  }
 ],
 "metadata": {
  "kernelspec": {
   "display_name": "tutorial",
   "language": "python",
   "name": "tutorial"
  },
  "language_info": {
   "codemirror_mode": {
    "name": "ipython",
    "version": 3
   },
   "file_extension": ".py",
   "mimetype": "text/x-python",
   "name": "python",
   "nbconvert_exporter": "python",
   "pygments_lexer": "ipython3",
   "version": "3.7.6"
  }
 },
 "nbformat": 4,
 "nbformat_minor": 5
}
