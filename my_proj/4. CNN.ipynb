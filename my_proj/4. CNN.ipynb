{
 "cells": [
  {
   "cell_type": "code",
   "execution_count": 105,
   "id": "international-warrant",
   "metadata": {},
   "outputs": [],
   "source": [
    "import pickle\n",
    "\n",
    "with open('dataset_mrna.pkl', 'rb') as f:\n",
    "    X_train, X_test, y_train, y_test = pickle.load(f)"
   ]
  },
  {
   "cell_type": "code",
   "execution_count": 106,
   "id": "black-monroe",
   "metadata": {},
   "outputs": [],
   "source": [
    "mapping = {0: [1,0,0,0], 1: [0,1,0,0], 2: [0,0,1,0], 3:[0,0,0,1]}\n",
    "\n",
    "def enc_seq(seq_list):\n",
    "    seq_enc = []\n",
    "\n",
    "    for seq in seq_list:\n",
    "        if len(seq) < 18 :\n",
    "            seq += [4]*(18-len(seq))\n",
    "        mapped_seq = list(map(lambda x: mapping[x] if x in mapping else [0.25,0.25,0.25,0.25], seq))\n",
    "        seq_enc.append(mapped_seq)\n",
    "    return seq_enc"
   ]
  },
  {
   "cell_type": "code",
   "execution_count": 107,
   "id": "iraqi-extra",
   "metadata": {},
   "outputs": [],
   "source": [
    "X_train_enc = enc_seq(X_train)\n",
    "X_test_enc = enc_seq(X_test)"
   ]
  },
  {
   "cell_type": "code",
   "execution_count": 133,
   "id": "scientific-engine",
   "metadata": {},
   "outputs": [],
   "source": [
    "import tensorflow as tf\n",
    "from tensorflow.keras import layers, models\n",
    "import pandas as pd\n",
    "from matplotlib import pyplot as plt \n",
    "\n",
    "tf.random.set_seed(42)\n",
    "\n",
    "model = models.Sequential()\n",
    "\n",
    "model.add(layers.Conv1D(1, 8, strides=2,activation='relu', input_shape=(None, 4)))\n",
    "model.add(layers.GlobalMaxPool1D())\n",
    "model.add(layers.Flatten())\n",
    "\n",
    "model.add(layers.Dense(16, activation='relu'))\n",
    "model.add(layers.Dense(1, activation='sigmoid'))\n",
    "model.compile(loss='binary_crossentropy', optimizer='adam', metrics=['AUC'])"
   ]
  },
  {
   "cell_type": "code",
   "execution_count": 134,
   "id": "average-belief",
   "metadata": {
    "scrolled": true
   },
   "outputs": [
    {
     "name": "stdout",
     "output_type": "stream",
     "text": [
      "Epoch 1/50\n",
      "40/40 [==============================] - 1s 10ms/step - loss: 0.7138 - auc: 0.4990 - val_loss: 0.6894 - val_auc: 0.5993\n",
      "Epoch 2/50\n",
      "40/40 [==============================] - 0s 2ms/step - loss: 0.6981 - auc: 0.5234 - val_loss: 0.6836 - val_auc: 0.6134\n",
      "Epoch 3/50\n",
      "40/40 [==============================] - 0s 2ms/step - loss: 0.6919 - auc: 0.5377 - val_loss: 0.6821 - val_auc: 0.6198\n",
      "Epoch 4/50\n",
      "40/40 [==============================] - 0s 2ms/step - loss: 0.6886 - auc: 0.5523 - val_loss: 0.6818 - val_auc: 0.6194\n",
      "Epoch 5/50\n",
      "40/40 [==============================] - 0s 2ms/step - loss: 0.6863 - auc: 0.5664 - val_loss: 0.6815 - val_auc: 0.6206\n",
      "Epoch 6/50\n",
      "40/40 [==============================] - 0s 2ms/step - loss: 0.6844 - auc: 0.5929 - val_loss: 0.6809 - val_auc: 0.6287\n",
      "Epoch 7/50\n",
      "40/40 [==============================] - 0s 2ms/step - loss: 0.6825 - auc: 0.6027 - val_loss: 0.6797 - val_auc: 0.6275\n",
      "Epoch 8/50\n",
      "40/40 [==============================] - 0s 2ms/step - loss: 0.6806 - auc: 0.6166 - val_loss: 0.6785 - val_auc: 0.6321\n",
      "Epoch 9/50\n",
      "40/40 [==============================] - 0s 2ms/step - loss: 0.6786 - auc: 0.6213 - val_loss: 0.6773 - val_auc: 0.6427\n",
      "Epoch 10/50\n",
      "40/40 [==============================] - 0s 2ms/step - loss: 0.6761 - auc: 0.6386 - val_loss: 0.6763 - val_auc: 0.6359\n",
      "Epoch 11/50\n",
      "40/40 [==============================] - 0s 2ms/step - loss: 0.6733 - auc: 0.6530 - val_loss: 0.6754 - val_auc: 0.6318\n",
      "Epoch 12/50\n",
      "40/40 [==============================] - 0s 2ms/step - loss: 0.6704 - auc: 0.6616 - val_loss: 0.6744 - val_auc: 0.6455\n",
      "Epoch 13/50\n",
      "40/40 [==============================] - 0s 2ms/step - loss: 0.6670 - auc: 0.6742 - val_loss: 0.6732 - val_auc: 0.6410\n",
      "Epoch 14/50\n",
      "40/40 [==============================] - 0s 2ms/step - loss: 0.6628 - auc: 0.6906 - val_loss: 0.6715 - val_auc: 0.6602\n",
      "Epoch 15/50\n",
      "40/40 [==============================] - 0s 2ms/step - loss: 0.6587 - auc: 0.7034 - val_loss: 0.6702 - val_auc: 0.6629\n",
      "Epoch 16/50\n",
      "40/40 [==============================] - 0s 2ms/step - loss: 0.6552 - auc: 0.7116 - val_loss: 0.6690 - val_auc: 0.6581\n",
      "Epoch 17/50\n",
      "40/40 [==============================] - 0s 2ms/step - loss: 0.6515 - auc: 0.7167 - val_loss: 0.6676 - val_auc: 0.6595\n",
      "Epoch 18/50\n",
      "40/40 [==============================] - 0s 2ms/step - loss: 0.6473 - auc: 0.7232 - val_loss: 0.6659 - val_auc: 0.6552\n",
      "Epoch 19/50\n",
      "40/40 [==============================] - 0s 2ms/step - loss: 0.6436 - auc: 0.7322 - val_loss: 0.6642 - val_auc: 0.6612\n",
      "Epoch 20/50\n",
      "40/40 [==============================] - 0s 2ms/step - loss: 0.6397 - auc: 0.7394 - val_loss: 0.6627 - val_auc: 0.6681\n",
      "Epoch 21/50\n",
      "40/40 [==============================] - 0s 2ms/step - loss: 0.6354 - auc: 0.7461 - val_loss: 0.6611 - val_auc: 0.6757\n",
      "Epoch 22/50\n",
      "40/40 [==============================] - 0s 2ms/step - loss: 0.6306 - auc: 0.7537 - val_loss: 0.6595 - val_auc: 0.6801\n",
      "Epoch 23/50\n",
      "40/40 [==============================] - 0s 2ms/step - loss: 0.6261 - auc: 0.7611 - val_loss: 0.6581 - val_auc: 0.6784\n",
      "Epoch 24/50\n",
      "40/40 [==============================] - 0s 2ms/step - loss: 0.6217 - auc: 0.7639 - val_loss: 0.6564 - val_auc: 0.6819\n",
      "Epoch 25/50\n",
      "40/40 [==============================] - 0s 2ms/step - loss: 0.6175 - auc: 0.7662 - val_loss: 0.6547 - val_auc: 0.6857\n",
      "Epoch 26/50\n",
      "40/40 [==============================] - 0s 2ms/step - loss: 0.6135 - auc: 0.7689 - val_loss: 0.6536 - val_auc: 0.6843\n",
      "Epoch 27/50\n",
      "40/40 [==============================] - 0s 2ms/step - loss: 0.6099 - auc: 0.7740 - val_loss: 0.6523 - val_auc: 0.6852\n",
      "Epoch 28/50\n",
      "40/40 [==============================] - 0s 2ms/step - loss: 0.6064 - auc: 0.7718 - val_loss: 0.6513 - val_auc: 0.6831\n",
      "Epoch 29/50\n",
      "40/40 [==============================] - 0s 3ms/step - loss: 0.6027 - auc: 0.7736 - val_loss: 0.6500 - val_auc: 0.6808\n",
      "Epoch 30/50\n",
      "40/40 [==============================] - 0s 2ms/step - loss: 0.5990 - auc: 0.7763 - val_loss: 0.6480 - val_auc: 0.6849\n",
      "Epoch 31/50\n",
      "40/40 [==============================] - 0s 2ms/step - loss: 0.5954 - auc: 0.7768 - val_loss: 0.6459 - val_auc: 0.6816\n",
      "Epoch 32/50\n",
      "40/40 [==============================] - 0s 2ms/step - loss: 0.5920 - auc: 0.7793 - val_loss: 0.6438 - val_auc: 0.6921\n",
      "Epoch 33/50\n",
      "40/40 [==============================] - 0s 3ms/step - loss: 0.5886 - auc: 0.7839 - val_loss: 0.6416 - val_auc: 0.6951\n",
      "Epoch 34/50\n",
      "40/40 [==============================] - 0s 2ms/step - loss: 0.5853 - auc: 0.7835 - val_loss: 0.6401 - val_auc: 0.6966\n",
      "Epoch 35/50\n",
      "40/40 [==============================] - 0s 2ms/step - loss: 0.5822 - auc: 0.7869 - val_loss: 0.6386 - val_auc: 0.6996\n",
      "Epoch 36/50\n",
      "40/40 [==============================] - 0s 2ms/step - loss: 0.5793 - auc: 0.7864 - val_loss: 0.6378 - val_auc: 0.6973\n",
      "Epoch 37/50\n",
      "40/40 [==============================] - 0s 2ms/step - loss: 0.5762 - auc: 0.7889 - val_loss: 0.6369 - val_auc: 0.7003\n",
      "Epoch 38/50\n",
      "40/40 [==============================] - 0s 2ms/step - loss: 0.5734 - auc: 0.7907 - val_loss: 0.6364 - val_auc: 0.7004\n",
      "Epoch 39/50\n",
      "40/40 [==============================] - 0s 2ms/step - loss: 0.5706 - auc: 0.7920 - val_loss: 0.6363 - val_auc: 0.6992\n",
      "Epoch 40/50\n",
      "40/40 [==============================] - 0s 2ms/step - loss: 0.5678 - auc: 0.7957 - val_loss: 0.6363 - val_auc: 0.6989\n",
      "Epoch 41/50\n",
      "40/40 [==============================] - 0s 2ms/step - loss: 0.5651 - auc: 0.7978 - val_loss: 0.6360 - val_auc: 0.6966\n",
      "Epoch 42/50\n",
      "40/40 [==============================] - 0s 2ms/step - loss: 0.5627 - auc: 0.7977 - val_loss: 0.6358 - val_auc: 0.6976\n",
      "Epoch 43/50\n",
      "40/40 [==============================] - 0s 2ms/step - loss: 0.5605 - auc: 0.7982 - val_loss: 0.6360 - val_auc: 0.6968\n",
      "Epoch 44/50\n",
      "40/40 [==============================] - 0s 2ms/step - loss: 0.5585 - auc: 0.8008 - val_loss: 0.6363 - val_auc: 0.6942\n",
      "Epoch 45/50\n",
      "40/40 [==============================] - 0s 2ms/step - loss: 0.5565 - auc: 0.8011 - val_loss: 0.6366 - val_auc: 0.6910\n",
      "Epoch 46/50\n",
      "40/40 [==============================] - 0s 2ms/step - loss: 0.5544 - auc: 0.8015 - val_loss: 0.6363 - val_auc: 0.6992\n",
      "Epoch 47/50\n",
      "40/40 [==============================] - 0s 2ms/step - loss: 0.5522 - auc: 0.8027 - val_loss: 0.6361 - val_auc: 0.6984\n",
      "Epoch 48/50\n",
      "40/40 [==============================] - 0s 2ms/step - loss: 0.5503 - auc: 0.8030 - val_loss: 0.6360 - val_auc: 0.7007\n",
      "Epoch 49/50\n",
      "40/40 [==============================] - 0s 2ms/step - loss: 0.5487 - auc: 0.8026 - val_loss: 0.6367 - val_auc: 0.7018\n",
      "Epoch 50/50\n",
      "40/40 [==============================] - 0s 3ms/step - loss: 0.5469 - auc: 0.8047 - val_loss: 0.6372 - val_auc: 0.7008\n"
     ]
    }
   ],
   "source": [
    "total_epoch = 50\n",
    "batch_size = 7\n",
    "history = model.fit(X_train_enc, y_train, epochs=total_epoch, batch_size=batch_size, verbose=1,\n",
    "                    validation_data=(X_test_enc, y_test))"
   ]
  },
  {
   "cell_type": "code",
   "execution_count": 135,
   "id": "registered-interpretation",
   "metadata": {},
   "outputs": [
    {
     "data": {
      "image/png": "[encoded data removed]",
      "text/plain": [
       "<Figure size 936x720 with 1 Axes>"
      ]
     },
     "metadata": {
      "needs_background": "light"
     },
     "output_type": "display_data"
    }
   ],
   "source": [
    "pd.DataFrame(history.history).plot(figsize=(13, 10))\n",
    "plt.grid(axis='y')\n",
    "plt.ylim(0, 1)\n",
    "plt.yticks([0, 0.25, 0.5, 0.75, 1])\n",
    "plt.show()"
   ]
  },
  {
   "cell_type": "code",
   "execution_count": 136,
   "id": "proved-norman",
   "metadata": {},
   "outputs": [
    {
     "data": {
      "text/plain": [
       "0.7011299435028248"
      ]
     },
     "execution_count": 136,
     "metadata": {},
     "output_type": "execute_result"
    }
   ],
   "source": [
    "from sklearn.metrics import roc_curve\n",
    "from sklearn.metrics import roc_auc_score\n",
    "\n",
    "y_pred = model.predict(X_test_enc)\n",
    "fpr, tpr, _ = roc_curve(y_test, y_pred, pos_label=1)\n",
    "test_score = roc_auc_score(y_test, y_pred)\n",
    "test_score"
   ]
  },
  {
   "cell_type": "code",
   "execution_count": 137,
   "id": "threaded-anatomy",
   "metadata": {},
   "outputs": [
    {
     "data": {
      "image/png": "[encoded data removed]",
      "text/plain": [
       "<Figure size 432x288 with 1 Axes>"
      ]
     },
     "metadata": {
      "needs_background": "light"
     },
     "output_type": "display_data"
    }
   ],
   "source": [
    "from matplotlib import pyplot as plt\n",
    "plt.plot(fpr, tpr, label='AUC = {:.3f}'.format(test_score),c='c') #marker='.'\n",
    " \n",
    "# axis labels\n",
    "plt.xlabel('False Positive Rate')\n",
    "plt.ylabel('True Positive Rate')\n",
    "plt.title(f'AUROC curve of lin28a prediction model\\n', size=13)\n",
    "plt.legend()\n",
    "plt.show()"
   ]
  },
  {
   "cell_type": "code",
   "execution_count": 138,
   "id": "accessory-palace",
   "metadata": {},
   "outputs": [],
   "source": [
    "with open('CNN_results_mrna.pkl', 'wb') as f :\n",
    "    pickle.dump((fpr,tpr,test_score), f)"
   ]
  },
  {
   "cell_type": "code",
   "execution_count": null,
   "id": "technical-bidding",
   "metadata": {},
   "outputs": [],
   "source": []
  },
  {
   "cell_type": "code",
   "execution_count": null,
   "id": "provincial-complex",
   "metadata": {},
   "outputs": [],
   "source": []
  }
 ],
 "metadata": {
  "kernelspec": {
   "display_name": "tutorial",
   "language": "python",
   "name": "tutorial"
  },
  "language_info": {
   "codemirror_mode": {
    "name": "ipython",
    "version": 3
   },
   "file_extension": ".py",
   "mimetype": "text/x-python",
   "name": "python",
   "nbconvert_exporter": "python",
   "pygments_lexer": "ipython3",
   "version": "3.7.6"
  }
 },
 "nbformat": 4,
 "nbformat_minor": 5
}
