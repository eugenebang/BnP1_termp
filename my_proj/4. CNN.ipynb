{
 "cells": [
  {
   "cell_type": "code",
   "execution_count": 46,
   "id": "appreciated-english",
   "metadata": {},
   "outputs": [],
   "source": [
    "import pickle\n",
    "\n",
    "with open('dataset.pkl', 'rb') as f:\n",
    "    X_train, X_test, y_train, y_test = pickle.load(f)"
   ]
  },
  {
   "cell_type": "code",
   "execution_count": 47,
   "id": "right-jimmy",
   "metadata": {},
   "outputs": [],
   "source": [
    "mapping = {0: [1,0,0,0], 1: [0,1,0,0], 2: [0,0,1,0], 3:[0,0,0,1]}\n",
    "\n",
    "def enc_seq(seq_list):\n",
    "    seq_enc = []\n",
    "\n",
    "    for seq in seq_list:\n",
    "        if len(seq) < 18 :\n",
    "            seq += [4]*(18-len(seq))\n",
    "        mapped_seq = list(map(lambda x: mapping[x] if x in mapping else [0.25,0.25,0.25,0.25], seq))\n",
    "        seq_enc.append(mapped_seq)\n",
    "    return seq_enc"
   ]
  },
  {
   "cell_type": "code",
   "execution_count": 48,
   "id": "approximate-genealogy",
   "metadata": {},
   "outputs": [],
   "source": [
    "X_train_enc = enc_seq(X_train)\n",
    "X_test_enc = enc_seq(X_test)"
   ]
  },
  {
   "cell_type": "code",
   "execution_count": 99,
   "id": "undefined-honduras",
   "metadata": {},
   "outputs": [],
   "source": [
    "import tensorflow as tf\n",
    "from tensorflow.keras import layers, models\n",
    "import pandas as pd\n",
    "from matplotlib import pyplot as plt \n",
    "\n",
    "tf.random.set_seed(42)\n",
    "\n",
    "model = models.Sequential()\n",
    "\n",
    "model.add(layers.Conv1D(1, 8, strides=2,activation='relu', input_shape=(None, 4)))\n",
    "model.add(layers.GlobalMaxPool1D())\n",
    "model.add(layers.Flatten())\n",
    "\n",
    "model.add(layers.Dense(16, activation='relu'))\n",
    "model.add(layers.Dense(1, activation='sigmoid'))\n",
    "model.compile(loss='binary_crossentropy', optimizer='adam', metrics=['AUC'])"
   ]
  },
  {
   "cell_type": "code",
   "execution_count": 100,
   "id": "addressed-arthur",
   "metadata": {
    "scrolled": true
   },
   "outputs": [
    {
     "name": "stdout",
     "output_type": "stream",
     "text": [
      "Epoch 1/70\n",
      "4/4 [==============================] - 1s 104ms/step - loss: 0.7459 - auc: 0.4235 - val_loss: 0.7555 - val_auc: 0.3611\n",
      "Epoch 2/70\n",
      "4/4 [==============================] - 0s 14ms/step - loss: 0.7376 - auc: 0.4362 - val_loss: 0.7500 - val_auc: 0.3611\n",
      "Epoch 3/70\n",
      "4/4 [==============================] - 0s 14ms/step - loss: 0.7308 - auc: 0.4439 - val_loss: 0.7449 - val_auc: 0.3611\n",
      "Epoch 4/70\n",
      "4/4 [==============================] - 0s 14ms/step - loss: 0.7248 - auc: 0.4439 - val_loss: 0.7404 - val_auc: 0.3611\n",
      "Epoch 5/70\n",
      "4/4 [==============================] - 0s 14ms/step - loss: 0.7194 - auc: 0.4541 - val_loss: 0.7363 - val_auc: 0.3611\n",
      "Epoch 6/70\n",
      "4/4 [==============================] - 0s 14ms/step - loss: 0.7145 - auc: 0.4566 - val_loss: 0.7326 - val_auc: 0.3750\n",
      "Epoch 7/70\n",
      "4/4 [==============================] - 0s 14ms/step - loss: 0.7102 - auc: 0.4847 - val_loss: 0.7295 - val_auc: 0.3750\n",
      "Epoch 8/70\n",
      "4/4 [==============================] - 0s 14ms/step - loss: 0.7063 - auc: 0.4872 - val_loss: 0.7267 - val_auc: 0.3611\n",
      "Epoch 9/70\n",
      "4/4 [==============================] - 0s 14ms/step - loss: 0.7029 - auc: 0.5000 - val_loss: 0.7243 - val_auc: 0.3889\n",
      "Epoch 10/70\n",
      "4/4 [==============================] - 0s 14ms/step - loss: 0.6997 - auc: 0.4974 - val_loss: 0.7221 - val_auc: 0.3889\n",
      "Epoch 11/70\n",
      "4/4 [==============================] - 0s 14ms/step - loss: 0.6969 - auc: 0.5255 - val_loss: 0.7200 - val_auc: 0.3750\n",
      "Epoch 12/70\n",
      "4/4 [==============================] - 0s 14ms/step - loss: 0.6942 - auc: 0.5408 - val_loss: 0.7179 - val_auc: 0.4028\n",
      "Epoch 13/70\n",
      "4/4 [==============================] - 0s 14ms/step - loss: 0.6918 - auc: 0.5587 - val_loss: 0.7161 - val_auc: 0.3889\n",
      "Epoch 14/70\n",
      "4/4 [==============================] - 0s 14ms/step - loss: 0.6895 - auc: 0.5689 - val_loss: 0.7143 - val_auc: 0.4028\n",
      "Epoch 15/70\n",
      "4/4 [==============================] - 0s 14ms/step - loss: 0.6874 - auc: 0.5816 - val_loss: 0.7128 - val_auc: 0.4028\n",
      "Epoch 16/70\n",
      "4/4 [==============================] - 0s 14ms/step - loss: 0.6854 - auc: 0.5969 - val_loss: 0.7114 - val_auc: 0.4167\n",
      "Epoch 17/70\n",
      "4/4 [==============================] - 0s 14ms/step - loss: 0.6836 - auc: 0.6071 - val_loss: 0.7101 - val_auc: 0.4028\n",
      "Epoch 18/70\n",
      "4/4 [==============================] - 0s 14ms/step - loss: 0.6818 - auc: 0.6250 - val_loss: 0.7088 - val_auc: 0.4306\n",
      "Epoch 19/70\n",
      "4/4 [==============================] - 0s 14ms/step - loss: 0.6801 - auc: 0.6276 - val_loss: 0.7076 - val_auc: 0.4167\n",
      "Epoch 20/70\n",
      "4/4 [==============================] - 0s 14ms/step - loss: 0.6784 - auc: 0.6403 - val_loss: 0.7066 - val_auc: 0.4167\n",
      "Epoch 21/70\n",
      "4/4 [==============================] - 0s 14ms/step - loss: 0.6768 - auc: 0.6582 - val_loss: 0.7056 - val_auc: 0.4167\n",
      "Epoch 22/70\n",
      "4/4 [==============================] - 0s 14ms/step - loss: 0.6752 - auc: 0.6658 - val_loss: 0.7046 - val_auc: 0.4167\n",
      "Epoch 23/70\n",
      "4/4 [==============================] - 0s 14ms/step - loss: 0.6736 - auc: 0.6760 - val_loss: 0.7038 - val_auc: 0.4167\n",
      "Epoch 24/70\n",
      "4/4 [==============================] - 0s 14ms/step - loss: 0.6721 - auc: 0.6862 - val_loss: 0.7031 - val_auc: 0.4306\n",
      "Epoch 25/70\n",
      "4/4 [==============================] - 0s 14ms/step - loss: 0.6707 - auc: 0.7015 - val_loss: 0.7024 - val_auc: 0.4306\n",
      "Epoch 26/70\n",
      "4/4 [==============================] - 0s 14ms/step - loss: 0.6693 - auc: 0.7092 - val_loss: 0.7018 - val_auc: 0.4306\n",
      "Epoch 27/70\n",
      "4/4 [==============================] - 0s 14ms/step - loss: 0.6679 - auc: 0.7117 - val_loss: 0.7012 - val_auc: 0.4444\n",
      "Epoch 28/70\n",
      "4/4 [==============================] - 0s 14ms/step - loss: 0.6663 - auc: 0.7245 - val_loss: 0.7006 - val_auc: 0.4306\n",
      "Epoch 29/70\n",
      "4/4 [==============================] - 0s 14ms/step - loss: 0.6648 - auc: 0.7296 - val_loss: 0.7001 - val_auc: 0.4306\n",
      "Epoch 30/70\n",
      "4/4 [==============================] - 0s 14ms/step - loss: 0.6632 - auc: 0.7423 - val_loss: 0.6996 - val_auc: 0.4306\n",
      "Epoch 31/70\n",
      "4/4 [==============================] - 0s 13ms/step - loss: 0.6616 - auc: 0.7577 - val_loss: 0.6992 - val_auc: 0.4444\n",
      "Epoch 32/70\n",
      "4/4 [==============================] - 0s 13ms/step - loss: 0.6600 - auc: 0.7679 - val_loss: 0.6989 - val_auc: 0.4167\n",
      "Epoch 33/70\n",
      "4/4 [==============================] - 0s 14ms/step - loss: 0.6584 - auc: 0.7653 - val_loss: 0.6987 - val_auc: 0.4167\n",
      "Epoch 34/70\n",
      "4/4 [==============================] - 0s 13ms/step - loss: 0.6568 - auc: 0.7679 - val_loss: 0.6985 - val_auc: 0.4306\n",
      "Epoch 35/70\n",
      "4/4 [==============================] - 0s 14ms/step - loss: 0.6552 - auc: 0.7832 - val_loss: 0.6983 - val_auc: 0.4306\n",
      "Epoch 36/70\n",
      "4/4 [==============================] - 0s 14ms/step - loss: 0.6535 - auc: 0.7857 - val_loss: 0.6982 - val_auc: 0.4306\n",
      "Epoch 37/70\n",
      "4/4 [==============================] - 0s 14ms/step - loss: 0.6517 - auc: 0.8061 - val_loss: 0.6981 - val_auc: 0.4306\n",
      "Epoch 38/70\n",
      "4/4 [==============================] - 0s 14ms/step - loss: 0.6497 - auc: 0.8010 - val_loss: 0.6980 - val_auc: 0.4444\n",
      "Epoch 39/70\n",
      "4/4 [==============================] - 0s 14ms/step - loss: 0.6476 - auc: 0.8061 - val_loss: 0.6983 - val_auc: 0.4306\n",
      "Epoch 40/70\n",
      "4/4 [==============================] - 0s 14ms/step - loss: 0.6454 - auc: 0.8087 - val_loss: 0.6988 - val_auc: 0.4444\n",
      "Epoch 41/70\n",
      "4/4 [==============================] - 0s 14ms/step - loss: 0.6432 - auc: 0.8112 - val_loss: 0.6993 - val_auc: 0.4306\n",
      "Epoch 42/70\n",
      "4/4 [==============================] - 0s 14ms/step - loss: 0.6409 - auc: 0.8061 - val_loss: 0.7000 - val_auc: 0.4444\n",
      "Epoch 43/70\n",
      "4/4 [==============================] - 0s 14ms/step - loss: 0.6386 - auc: 0.8112 - val_loss: 0.7007 - val_auc: 0.4444\n",
      "Epoch 44/70\n",
      "4/4 [==============================] - 0s 14ms/step - loss: 0.6362 - auc: 0.8138 - val_loss: 0.7013 - val_auc: 0.4444\n",
      "Epoch 45/70\n",
      "4/4 [==============================] - 0s 14ms/step - loss: 0.6337 - auc: 0.8163 - val_loss: 0.7021 - val_auc: 0.4444\n",
      "Epoch 46/70\n",
      "4/4 [==============================] - 0s 13ms/step - loss: 0.6312 - auc: 0.8265 - val_loss: 0.7031 - val_auc: 0.4444\n",
      "Epoch 47/70\n",
      "4/4 [==============================] - 0s 13ms/step - loss: 0.6287 - auc: 0.8342 - val_loss: 0.7041 - val_auc: 0.4444\n",
      "Epoch 48/70\n",
      "4/4 [==============================] - 0s 14ms/step - loss: 0.6261 - auc: 0.8418 - val_loss: 0.7051 - val_auc: 0.4444\n",
      "Epoch 49/70\n",
      "4/4 [==============================] - 0s 14ms/step - loss: 0.6235 - auc: 0.8495 - val_loss: 0.7063 - val_auc: 0.4444\n",
      "Epoch 50/70\n",
      "4/4 [==============================] - 0s 14ms/step - loss: 0.6208 - auc: 0.8546 - val_loss: 0.7075 - val_auc: 0.4444\n",
      "Epoch 51/70\n",
      "4/4 [==============================] - 0s 14ms/step - loss: 0.6181 - auc: 0.8648 - val_loss: 0.7089 - val_auc: 0.4444\n",
      "Epoch 52/70\n",
      "4/4 [==============================] - 0s 14ms/step - loss: 0.6154 - auc: 0.8724 - val_loss: 0.7106 - val_auc: 0.4444\n",
      "Epoch 53/70\n",
      "4/4 [==============================] - 0s 14ms/step - loss: 0.6126 - auc: 0.8776 - val_loss: 0.7121 - val_auc: 0.4444\n",
      "Epoch 54/70\n",
      "4/4 [==============================] - 0s 14ms/step - loss: 0.6097 - auc: 0.8827 - val_loss: 0.7134 - val_auc: 0.4444\n",
      "Epoch 55/70\n",
      "4/4 [==============================] - 0s 13ms/step - loss: 0.6065 - auc: 0.8827 - val_loss: 0.7149 - val_auc: 0.4722\n",
      "Epoch 56/70\n",
      "4/4 [==============================] - 0s 13ms/step - loss: 0.6031 - auc: 0.8929 - val_loss: 0.7164 - val_auc: 0.4722\n",
      "Epoch 57/70\n",
      "4/4 [==============================] - 0s 14ms/step - loss: 0.5996 - auc: 0.9031 - val_loss: 0.7178 - val_auc: 0.5000\n",
      "Epoch 58/70\n",
      "4/4 [==============================] - 0s 14ms/step - loss: 0.5961 - auc: 0.9031 - val_loss: 0.7191 - val_auc: 0.5000\n",
      "Epoch 59/70\n",
      "4/4 [==============================] - 0s 14ms/step - loss: 0.5924 - auc: 0.9082 - val_loss: 0.7204 - val_auc: 0.5278\n",
      "Epoch 60/70\n",
      "4/4 [==============================] - 0s 14ms/step - loss: 0.5886 - auc: 0.9082 - val_loss: 0.7216 - val_auc: 0.5417\n",
      "Epoch 61/70\n",
      "4/4 [==============================] - 0s 14ms/step - loss: 0.5847 - auc: 0.9082 - val_loss: 0.7226 - val_auc: 0.5417\n",
      "Epoch 62/70\n",
      "4/4 [==============================] - 0s 14ms/step - loss: 0.5809 - auc: 0.9107 - val_loss: 0.7234 - val_auc: 0.5417\n",
      "Epoch 63/70\n",
      "4/4 [==============================] - 0s 14ms/step - loss: 0.5772 - auc: 0.9107 - val_loss: 0.7240 - val_auc: 0.5417\n",
      "Epoch 64/70\n",
      "4/4 [==============================] - 0s 14ms/step - loss: 0.5733 - auc: 0.9107 - val_loss: 0.7242 - val_auc: 0.5556\n",
      "Epoch 65/70\n",
      "4/4 [==============================] - 0s 14ms/step - loss: 0.5697 - auc: 0.9107 - val_loss: 0.7245 - val_auc: 0.5417\n",
      "Epoch 66/70\n",
      "4/4 [==============================] - 0s 14ms/step - loss: 0.5664 - auc: 0.9133 - val_loss: 0.7251 - val_auc: 0.5556\n",
      "Epoch 67/70\n",
      "4/4 [==============================] - 0s 14ms/step - loss: 0.5630 - auc: 0.9209 - val_loss: 0.7259 - val_auc: 0.5417\n",
      "Epoch 68/70\n",
      "4/4 [==============================] - 0s 14ms/step - loss: 0.5595 - auc: 0.9184 - val_loss: 0.7269 - val_auc: 0.5556\n",
      "Epoch 69/70\n",
      "4/4 [==============================] - 0s 14ms/step - loss: 0.5560 - auc: 0.9235 - val_loss: 0.7279 - val_auc: 0.5556\n",
      "Epoch 70/70\n",
      "4/4 [==============================] - 0s 14ms/step - loss: 0.5526 - auc: 0.9260 - val_loss: 0.7283 - val_auc: 0.5556\n"
     ]
    }
   ],
   "source": [
    "total_epoch = 70\n",
    "batch_size = 7\n",
    "history = model.fit(X_train_enc, y_train, epochs=total_epoch, batch_size=batch_size, verbose=1,\n",
    "                    validation_data=(X_test_enc, y_test))"
   ]
  },
  {
   "cell_type": "code",
   "execution_count": 101,
   "id": "suitable-synthetic",
   "metadata": {},
   "outputs": [
    {
     "data": {
      "image/png": "[encoded data removed]",
      "text/plain": [
       "<Figure size 936x720 with 1 Axes>"
      ]
     },
     "metadata": {
      "needs_background": "light"
     },
     "output_type": "display_data"
    }
   ],
   "source": [
    "pd.DataFrame(history.history).plot(figsize=(13, 10))\n",
    "plt.grid(axis='y')\n",
    "plt.ylim(0, 1)\n",
    "plt.yticks([0, 0.25, 0.5, 0.75, 1])\n",
    "plt.show()"
   ]
  },
  {
   "cell_type": "code",
   "execution_count": 102,
   "id": "weird-infection",
   "metadata": {},
   "outputs": [],
   "source": [
    "from sklearn.metrics import roc_curve\n",
    "from sklearn.metrics import roc_auc_score\n",
    "\n",
    "y_pred = model.predict(X_test_enc)\n",
    "fpr, tpr, _ = roc_curve(y_test, y_pred, pos_label=1)\n",
    "test_score = roc_auc_score(y_test, y_pred)"
   ]
  },
  {
   "cell_type": "code",
   "execution_count": 103,
   "id": "swedish-spokesman",
   "metadata": {},
   "outputs": [
    {
     "data": {
      "image/png": "[encoded data removed]",
      "text/plain": [
       "<Figure size 432x288 with 1 Axes>"
      ]
     },
     "metadata": {
      "needs_background": "light"
     },
     "output_type": "display_data"
    }
   ],
   "source": [
    "from matplotlib import pyplot as plt\n",
    "plt.plot(fpr, tpr, label='AUC = {:.3f}'.format(test_score),c='c') #marker='.'\n",
    " \n",
    "# axis labels\n",
    "plt.xlabel('False Positive Rate')\n",
    "plt.ylabel('True Positive Rate')\n",
    "plt.title(f'AUROC curve of lin28a prediction model\\n', size=13)\n",
    "plt.legend()\n",
    "plt.show()"
   ]
  },
  {
   "cell_type": "code",
   "execution_count": 104,
   "id": "outstanding-charger",
   "metadata": {},
   "outputs": [],
   "source": [
    "with open('CNN_results.pkl', 'wb') as f :\n",
    "    pickle.dump((fpr,tpr,test_score), f)"
   ]
  },
  {
   "cell_type": "code",
   "execution_count": null,
   "id": "musical-target",
   "metadata": {},
   "outputs": [],
   "source": []
  },
  {
   "cell_type": "code",
   "execution_count": null,
   "id": "buried-collapse",
   "metadata": {},
   "outputs": [],
   "source": []
  }
 ],
 "metadata": {
  "kernelspec": {
   "display_name": "tutorial",
   "language": "python",
   "name": "tutorial"
  },
  "language_info": {
   "codemirror_mode": {
    "name": "ipython",
    "version": 3
   },
   "file_extension": ".py",
   "mimetype": "text/x-python",
   "name": "python",
   "nbconvert_exporter": "python",
   "pygments_lexer": "ipython3",
   "version": "3.7.6"
  }
 },
 "nbformat": 4,
 "nbformat_minor": 5
}
