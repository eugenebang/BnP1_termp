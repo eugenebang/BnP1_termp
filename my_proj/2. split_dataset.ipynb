{
 "cells": [
  {
   "cell_type": "code",
   "execution_count": 1,
   "id": "subjective-arrival",
   "metadata": {},
   "outputs": [],
   "source": [
    "from sklearn.model_selection import train_test_split"
   ]
  },
  {
   "cell_type": "code",
   "execution_count": 2,
   "id": "departmental-climate",
   "metadata": {},
   "outputs": [],
   "source": [
    "import pickle"
   ]
  },
  {
   "cell_type": "markdown",
   "id": "linear-modeling",
   "metadata": {},
   "source": [
    "# Negative dataset of (20,18)"
   ]
  },
  {
   "cell_type": "code",
   "execution_count": 18,
   "id": "foster-accident",
   "metadata": {},
   "outputs": [
    {
     "data": {
      "text/plain": [
       "[[2, 1, 3, 1, 3, 2, 2, 0, 3, 1, 1, 1, 0, 1, 2, 2, 0, 2],\n",
       " [2, 1, 3, 2, 0, 0, 3, 0, 1, 3, 0, 0, 1, 2, 0, 2, 1, 3],\n",
       " [3, 0, 1, 0, 2, 0, 3, 3, 2, 0, 3, 0, 0, 1, 0, 0, 2, 3],\n",
       " [2, 0, 3, 3, 2, 1, 3, 2, 0, 1, 0, 1, 3, 1, 3, 1, 0, 0],\n",
       " [3, 3, 0, 1, 3, 0, 2, 2, 0, 2, 1, 0, 3, 1, 1, 2, 2, 0],\n",
       " [0, 1, 2, 1, 2, 3, 3, 2, 3, 3, 2, 2, 2, 2, 0, 2, 2, 3],\n",
       " [3, 1, 3, 2, 1, 2, 0, 2, 2, 1, 2, 3, 0, 1, 2, 0, 3, 3],\n",
       " [0, 1, 0, 1, 1, 2, 2, 3, 1, 2, 2, 2, 2, 0, 1, 1, 0, 2],\n",
       " [3, 3, 1, 1, 3, 1, 1, 2, 3, 1, 1, 3, 3, 3, 0, 1, 1, 0],\n",
       " [3, 2, 3, 1, 1, 2, 3, 2, 1, 2, 3, 3, 2, 3, 2, 2, 0, 3],\n",
       " [1, 0, 3, 0, 2, 1, 2, 1, 3, 3, 3, 3, 2, 1, 2, 1, 1, 3],\n",
       " [2, 2, 3, 3, 0, 2, 1, 0, 1, 0, 2, 1, 2, 3, 0, 1, 1, 2],\n",
       " [2, 2, 3, 0, 0, 3, 2, 3, 3, 3, 1, 0, 3, 0, 1, 3, 1, 3],\n",
       " [3, 1, 3, 1, 3, 3, 1, 0, 2, 1, 0, 3, 3, 2, 2, 0, 2, 2],\n",
       " [0, 2, 0, 3, 3, 2, 1, 2, 1, 3, 3, 1, 0, 2, 1, 3, 0, 0],\n",
       " [2, 3, 0, 2, 1, 2, 0, 2, 0, 0, 3, 0, 0, 2, 3, 3, 1, 2],\n",
       " [2, 2, 0, 1, 0, 2, 0, 0, 3, 1, 0, 1, 0, 3, 1, 0, 2, 0],\n",
       " [1, 0, 2, 1, 2, 1, 1, 3, 2, 3, 1, 0, 1, 3, 0, 2, 1, 3],\n",
       " [1, 0, 0, 3, 0, 3, 3, 0, 2, 0, 0, 1, 2, 1, 2, 3, 0, 0],\n",
       " [3, 3, 1, 0, 0, 2, 0, 1, 3, 1, 1, 3, 0, 3, 1, 3, 0, 1]]"
      ]
     },
     "execution_count": 18,
     "metadata": {},
     "output_type": "execute_result"
    }
   ],
   "source": [
    "from random import randint\n",
    "\n",
    "rand_seqs = []\n",
    "for i in range(20): # random 20 seqs\n",
    "    seq = []\n",
    "    for j in range(18): # len 18\n",
    "        seq.append(randint(0,3))\n",
    "    rand_seqs.append(seq)\n",
    "        \n",
    "rand_seqs"
   ]
  },
  {
   "cell_type": "code",
   "execution_count": 19,
   "id": "binary-tuition",
   "metadata": {},
   "outputs": [],
   "source": [
    "with open('seqs.pkl', 'rb') as f:\n",
    "    genes,seqs = pickle.load(f)"
   ]
  },
  {
   "cell_type": "code",
   "execution_count": 32,
   "id": "pressed-deviation",
   "metadata": {},
   "outputs": [],
   "source": [
    "X = rand_seqs+seqs\n",
    "y = [0]*20+[1]*20"
   ]
  },
  {
   "cell_type": "code",
   "execution_count": 44,
   "id": "center-possible",
   "metadata": {},
   "outputs": [],
   "source": [
    "X_train, X_test, y_train, y_test = train_test_split(\n",
    "    X, y, test_size=0.3, random_state=42,stratify=y_train+y_test)"
   ]
  },
  {
   "cell_type": "code",
   "execution_count": 48,
   "id": "alpine-publicity",
   "metadata": {},
   "outputs": [],
   "source": [
    "with open('dataset.pkl','wb') as f:\n",
    "    pickle.dump((X_train, X_test, y_train, y_test), f)"
   ]
  },
  {
   "cell_type": "code",
   "execution_count": null,
   "id": "loaded-filter",
   "metadata": {},
   "outputs": [],
   "source": []
  },
  {
   "cell_type": "code",
   "execution_count": null,
   "id": "reasonable-seven",
   "metadata": {},
   "outputs": [],
   "source": []
  },
  {
   "cell_type": "code",
   "execution_count": null,
   "id": "rotary-single",
   "metadata": {},
   "outputs": [],
   "source": []
  },
  {
   "cell_type": "code",
   "execution_count": null,
   "id": "molecular-knowing",
   "metadata": {},
   "outputs": [],
   "source": []
  }
 ],
 "metadata": {
  "kernelspec": {
   "display_name": "tutorial",
   "language": "python",
   "name": "tutorial"
  },
  "language_info": {
   "codemirror_mode": {
    "name": "ipython",
    "version": 3
   },
   "file_extension": ".py",
   "mimetype": "text/x-python",
   "name": "python",
   "nbconvert_exporter": "python",
   "pygments_lexer": "ipython3",
   "version": "3.7.6"
  }
 },
 "nbformat": 4,
 "nbformat_minor": 5
}
