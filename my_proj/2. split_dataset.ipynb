{
 "cells": [
  {
   "cell_type": "code",
   "execution_count": 2,
   "id": "preliminary-albany",
   "metadata": {},
   "outputs": [],
   "source": [
    "import pickle\n",
    "from sklearn.model_selection import train_test_split"
   ]
  },
  {
   "cell_type": "markdown",
   "id": "marked-journalism",
   "metadata": {},
   "source": [
    "# Negative dataset of (20,18)"
   ]
  },
  {
   "cell_type": "code",
   "execution_count": 83,
   "id": "brave-prescription",
   "metadata": {},
   "outputs": [
    {
     "data": {
      "text/plain": [
       "198"
      ]
     },
     "execution_count": 83,
     "metadata": {},
     "output_type": "execute_result"
    }
   ],
   "source": [
    "genes = []\n",
    "seqs = []\n",
    "\n",
    "for i in range(0,5000):\n",
    "    try:\n",
    "        with open(f'parmap/seqs_mrna_{i}.pkl', 'rb') as f:\n",
    "            gene, seq = pickle.load(f)\n",
    "        genes += gene\n",
    "        seqs += seq\n",
    "    except:pass\n",
    "data_len = len(list(set(genes)))\n",
    "data_len"
   ]
  },
  {
   "cell_type": "code",
   "execution_count": 77,
   "id": "prescription-bangkok",
   "metadata": {},
   "outputs": [
    {
     "data": {
      "text/plain": [
       "198"
      ]
     },
     "execution_count": 77,
     "metadata": {},
     "output_type": "execute_result"
    }
   ],
   "source": [
    "locs = []\n",
    "seqs_uniq = []\n",
    "genes_uniq = list(set(genes))\n",
    "for gene in genes_uniq:\n",
    "    seq = seqs[genes.index(gene)]\n",
    "    if len(seq) > 18:\n",
    "        seqs_uniq.append(seq[0:18])\n",
    "    else:\n",
    "        seqs_uniq.append(seq)\n",
    "len(seqs_uniq)"
   ]
  },
  {
   "cell_type": "code",
   "execution_count": 85,
   "id": "ongoing-annual",
   "metadata": {},
   "outputs": [
    {
     "data": {
      "text/plain": [
       "198"
      ]
     },
     "execution_count": 85,
     "metadata": {},
     "output_type": "execute_result"
    }
   ],
   "source": [
    "from random import randint\n",
    "\n",
    "rand_seqs = []\n",
    "for i in range(data_len): # random 20 seqs\n",
    "    seq = []\n",
    "    for j in range(18): # len 18\n",
    "        seq.append(randint(0,3))\n",
    "    rand_seqs.append(seq)\n",
    "        \n",
    "len(rand_seqs)"
   ]
  },
  {
   "cell_type": "code",
   "execution_count": 86,
   "id": "artistic-quantity",
   "metadata": {},
   "outputs": [],
   "source": [
    "X = rand_seqs+seqs_uniq\n",
    "y = [0]*data_len+[1]*data_len"
   ]
  },
  {
   "cell_type": "code",
   "execution_count": 89,
   "id": "phantom-premises",
   "metadata": {},
   "outputs": [],
   "source": [
    "X_train, X_test, y_train, y_test = train_test_split(\n",
    "    X, y, test_size=0.3, random_state=42,stratify=y)"
   ]
  },
  {
   "cell_type": "code",
   "execution_count": 90,
   "id": "demanding-conjunction",
   "metadata": {},
   "outputs": [],
   "source": [
    "with open('dataset_mrna.pkl','wb') as f:\n",
    "    pickle.dump((X_train, X_test, y_train, y_test), f)"
   ]
  },
  {
   "cell_type": "code",
   "execution_count": null,
   "id": "opposed-basics",
   "metadata": {},
   "outputs": [],
   "source": []
  }
 ],
 "metadata": {
  "kernelspec": {
   "display_name": "tutorial",
   "language": "python",
   "name": "tutorial"
  },
  "language_info": {
   "codemirror_mode": {
    "name": "ipython",
    "version": 3
   },
   "file_extension": ".py",
   "mimetype": "text/x-python",
   "name": "python",
   "nbconvert_exporter": "python",
   "pygments_lexer": "ipython3",
   "version": "3.7.6"
  }
 },
 "nbformat": 4,
 "nbformat_minor": 5
}
